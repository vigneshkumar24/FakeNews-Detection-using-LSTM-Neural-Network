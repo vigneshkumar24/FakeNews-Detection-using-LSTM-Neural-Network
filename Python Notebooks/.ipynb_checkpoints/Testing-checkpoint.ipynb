{
 "cells": [
  {
   "cell_type": "markdown",
   "metadata": {},
   "source": [
    "## 2021F AML 3104 2 Neural Networks and Deep Learning\n",
    "\n",
    "### FakeNews Detection using LSTM Neural Network\n",
    "\n",
    "*Done by,*\n",
    "**<br>Swathi Gurijila(C0790294)</br>**\n",
    "**<br>Varadharajan Kalyanaraman(C0793756)</br>**\n",
    "**<br>Vignesh Kumar Murugananthan(C0793760)</br>**\n",
    "\n",
    "#### Model Testing with News data"
   ]
  },
  {
   "cell_type": "code",
   "execution_count": 1,
   "metadata": {},
   "outputs": [],
   "source": [
    "# Import required Package\n",
    "import json\n",
    "import numpy as np\n",
    "from nlp_operations import clean_text\n",
    "from keras.models import load_model\n",
    "from tensorflow.keras.preprocessing.text import one_hot\n",
    "from tensorflow.keras.preprocessing.sequence import pad_sequences"
   ]
  },
  {
   "cell_type": "code",
   "execution_count": 2,
   "metadata": {},
   "outputs": [],
   "source": [
    "class NumpyEncoder(json.JSONEncoder):\n",
    "    \"\"\" Special json encoder for numpy types \"\"\"\n",
    "    def default(self, obj):\n",
    "        if isinstance(obj, (np.ndarray, np.number)):\n",
    "            return obj.tolist()\n",
    "        elif isinstance(obj, (complex, np.complex)):\n",
    "            return [obj.real, obj.imag]\n",
    "        elif isinstance(obj, set):\n",
    "            return list(obj)\n",
    "        elif isinstance(obj, bytes):\n",
    "            return obj.decode()\n",
    "        return json.JSONEncoder.default(self, obj)"
   ]
  },
  {
   "cell_type": "code",
   "execution_count": 5,
   "metadata": {},
   "outputs": [],
   "source": [
    "voc_size = 5000\n",
    "sent_length = 20\n",
    "\n",
    "def get_text_to_vect(text):\n",
    "    onehot_repr = [one_hot(words, voc_size) for words in text]\n",
    "    embedded_docs = pad_sequences(onehot_repr,\n",
    "                                  padding='pre',\n",
    "                                  maxlen=sent_length)\n",
    "    return embedded_docs\n",
    "\n",
    "lstm = load_model('./models/lstm_model_h5.h5')"
   ]
  },
  {
   "cell_type": "code",
   "execution_count": 6,
   "metadata": {},
   "outputs": [
    {
     "name": "stdout",
     "output_type": "stream",
     "text": [
      "Hungarian doctor named Ignaz Semmelweis tried to introduce a radical practice at his obstetrical ward in Vienna. He wanted physicians to wash their hands before treating patients.  It didn't go well. Other doctors resisted the idea that their hands were dirty. They shrugged off evidence that hand washing had reduced the death rate in the clinic.  Looking at their actions today, it can be hard to understand why these physicians would dismiss information that could have saved lives. But researchers who study the history of science say the spread of new innovations isn't always rational or linear. That's especially true when a new idea comes up against widely-held scientific beliefs.  \"We don't like to have beliefs that are different from the people around us,\" says philosopher of science Cailin O'Connor. \"We don't like our actions to not conform with the people who we know and love.\"\n",
      "Input message Hungarian doctor named Ignaz Semmelweis tried to introduce a radical practice at his obstetrical ward in Vienna. He wanted physicians to wash their hands before treating patients.  It didn't go well. Other doctors resisted the idea that their hands were dirty. They shrugged off evidence that hand washing had reduced the death rate in the clinic.  Looking at their actions today, it can be hard to understand why these physicians would dismiss information that could have saved lives. But researchers who study the history of science say the spread of new innovations isn't always rational or linear. That's especially true when a new idea comes up against widely-held scientific beliefs.  \"We don't like to have beliefs that are different from the people around us,\" says philosopher of science Cailin O'Connor. \"We don't like our actions to not conform with the people who we know and love.\"\n"
     ]
    }
   ],
   "source": [
    "message = input()\n",
    "print(\"Input message\", message)"
   ]
  },
  {
   "cell_type": "code",
   "execution_count": 7,
   "metadata": {},
   "outputs": [
    {
     "name": "stdout",
     "output_type": "stream",
     "text": [
      "Cleaned Text: hungarian doctor name ignaz semmelwei tri introduc radic practic obstetr ward vienna want physician wash hand treat patient go well doctor resist idea hand dirti shrug evid hand wash reduc death rate clinic look action today hard understand physician would dismiss inform could save live research studi histori scienc say spread new innov alway ration linear especi true new idea come wide held scientif belief like belief differ peopl around u say philosoph scienc cailin connor like action conform peopl know love\n"
     ]
    }
   ],
   "source": [
    "body = clean_text(message)\n",
    "print(\"Cleaned Text:\", body)"
   ]
  },
  {
   "cell_type": "code",
   "execution_count": 8,
   "metadata": {},
   "outputs": [
    {
     "name": "stdout",
     "output_type": "stream",
     "text": [
      "The given statement is True\n",
      "The probability score is  0.00010859659232664853\n"
     ]
    },
    {
     "data": {
      "text/plain": [
       "(None, None)"
      ]
     },
     "execution_count": 8,
     "metadata": {},
     "output_type": "execute_result"
    }
   ],
   "source": [
    "#function to run for prediction\n",
    "def detecting_fake_news():    \n",
    "    vect = get_text_to_vect([body])\n",
    "    pred = lstm.predict(vect)\n",
    "    pr_rd = round(pred[0][0])\n",
    "    pred = json.dumps(pred[0][0], cls=NumpyEncoder)\n",
    "    \n",
    "    if pr_rd == 0.0:\n",
    "        out = 'True'\n",
    "    else:\n",
    "        out = 'Fake'\n",
    "\n",
    "    return (print(\"The given statement is\", out),\n",
    "            print(\"The probability score is \", pred))\n",
    "\n",
    "detecting_fake_news()"
   ]
  },
  {
   "cell_type": "code",
   "execution_count": null,
   "metadata": {},
   "outputs": [],
   "source": []
  }
 ],
 "metadata": {
  "kernelspec": {
   "display_name": "Python 3",
   "language": "python",
   "name": "python3"
  },
  "language_info": {
   "codemirror_mode": {
    "name": "ipython",
    "version": 3
   },
   "file_extension": ".py",
   "mimetype": "text/x-python",
   "name": "python",
   "nbconvert_exporter": "python",
   "pygments_lexer": "ipython3",
   "version": "3.7.6"
  }
 },
 "nbformat": 4,
 "nbformat_minor": 4
}
