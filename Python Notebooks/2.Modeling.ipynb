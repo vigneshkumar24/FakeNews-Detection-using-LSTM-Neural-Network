{
 "cells": [
  {
   "cell_type": "markdown",
   "metadata": {},
   "source": [
    "## 2021F AML 3104 2 Neural Networks and Deep Learning\n",
    "\n",
    "### FakeNews Detection using LSTM Neural Network\n",
    "\n",
    "*Done by,*\n",
    "**<br>Swathi Gurijila(C0790294)</br>**\n",
    "**<br>Varadharajan Kalyanaraman(C0793756)</br>**\n",
    "**<br>Vignesh Kumar Murugananthan(C0793760)</br>**\n",
    "\n",
    "### Modeling"
   ]
  },
  {
   "cell_type": "code",
   "execution_count": 1,
   "metadata": {
    "ExecuteTime": {
     "end_time": "2021-04-23T08:42:04.970786Z",
     "start_time": "2021-04-23T08:42:02.794701Z"
    }
   },
   "outputs": [],
   "source": [
    "import pandas as pd\n",
    "import numpy as np\n",
    "\n",
    "# Vectorization imports\n",
    "from sklearn.feature_extraction.text import CountVectorizer\n",
    "\n",
    "# Training imports\n",
    "from sklearn.model_selection import train_test_split\n",
    "\n",
    "# Model imports\n",
    "from sklearn.svm import SVC\n",
    "from sklearn.ensemble import RandomForestClassifier\n",
    "from sklearn.linear_model import PassiveAggressiveClassifier\n",
    "from sklearn.tree import DecisionTreeClassifier\n",
    "from sklearn.naive_bayes import MultinomialNB\n",
    "from xgboost import XGBClassifier\n",
    "\n",
    "# Plotting imports\n",
    "import matplotlib.pyplot as plt\n",
    "import seaborn as sb\n",
    "\n",
    "# Validation imports\n",
    "from sklearn import metrics\n",
    "from sklearn.metrics import precision_score, recall_score, f1_score\n",
    "\n",
    "# For clean Visualization\n",
    "import warnings\n",
    "warnings.filterwarnings('ignore')\n",
    "\n",
    "# Other required library imports\n",
    "import itertools\n",
    "import pickle"
   ]
  },
  {
   "cell_type": "code",
   "execution_count": 2,
   "metadata": {
    "ExecuteTime": {
     "end_time": "2021-04-23T08:42:05.048785Z",
     "start_time": "2021-04-23T08:42:05.034958Z"
    }
   },
   "outputs": [],
   "source": [
    "vectorizer = CountVectorizer()"
   ]
  },
  {
   "cell_type": "markdown",
   "metadata": {
    "ExecuteTime": {
     "end_time": "2021-04-23T08:14:05.257408Z",
     "start_time": "2021-04-23T08:14:05.230974Z"
    }
   },
   "source": [
    "### Importing cleaned dataset"
   ]
  },
  {
   "cell_type": "code",
   "execution_count": 3,
   "metadata": {
    "ExecuteTime": {
     "end_time": "2021-04-23T08:42:05.819640Z",
     "start_time": "2021-04-23T08:42:05.112770Z"
    }
   },
   "outputs": [
    {
     "data": {
      "text/html": [
       "<div>\n",
       "<style scoped>\n",
       "    .dataframe tbody tr th:only-of-type {\n",
       "        vertical-align: middle;\n",
       "    }\n",
       "\n",
       "    .dataframe tbody tr th {\n",
       "        vertical-align: top;\n",
       "    }\n",
       "\n",
       "    .dataframe thead th {\n",
       "        text-align: right;\n",
       "    }\n",
       "</style>\n",
       "<table border=\"1\" class=\"dataframe\">\n",
       "  <thead>\n",
       "    <tr style=\"text-align: right;\">\n",
       "      <th></th>\n",
       "      <th>text</th>\n",
       "      <th>label</th>\n",
       "    </tr>\n",
       "  </thead>\n",
       "  <tbody>\n",
       "    <tr>\n",
       "      <th>0</th>\n",
       "      <td>unit state budget fight loom republican flip f...</td>\n",
       "      <td>1</td>\n",
       "    </tr>\n",
       "    <tr>\n",
       "      <th>1</th>\n",
       "      <td>unit state militari accept transgend recruit m...</td>\n",
       "      <td>1</td>\n",
       "    </tr>\n",
       "    <tr>\n",
       "      <th>2</th>\n",
       "      <td>senior unit state republican senat let mr muel...</td>\n",
       "      <td>1</td>\n",
       "    </tr>\n",
       "    <tr>\n",
       "      <th>3</th>\n",
       "      <td>fbi russia probe help australian diplomat tip ...</td>\n",
       "      <td>1</td>\n",
       "    </tr>\n",
       "    <tr>\n",
       "      <th>4</th>\n",
       "      <td>trump want postal servic charg much amazon shi...</td>\n",
       "      <td>1</td>\n",
       "    </tr>\n",
       "  </tbody>\n",
       "</table>\n",
       "</div>"
      ],
      "text/plain": [
       "                                                text  label\n",
       "0  unit state budget fight loom republican flip f...      1\n",
       "1  unit state militari accept transgend recruit m...      1\n",
       "2  senior unit state republican senat let mr muel...      1\n",
       "3  fbi russia probe help australian diplomat tip ...      1\n",
       "4  trump want postal servic charg much amazon shi...      1"
      ]
     },
     "execution_count": 3,
     "metadata": {},
     "output_type": "execute_result"
    }
   ],
   "source": [
    "df = pd.read_csv(\"../Dataset/clean_data.csv\")\n",
    "df = df.dropna()\n",
    "df.head()"
   ]
  },
  {
   "cell_type": "markdown",
   "metadata": {},
   "source": [
    "Checking the value counts."
   ]
  },
  {
   "cell_type": "code",
   "execution_count": 4,
   "metadata": {
    "ExecuteTime": {
     "end_time": "2021-04-23T08:42:05.899456Z",
     "start_time": "2021-04-23T08:42:05.885135Z"
    }
   },
   "outputs": [
    {
     "data": {
      "text/plain": [
       "1    0.536285\n",
       "0    0.463715\n",
       "Name: label, dtype: float64"
      ]
     },
     "execution_count": 4,
     "metadata": {},
     "output_type": "execute_result"
    }
   ],
   "source": [
    "df['label'].value_counts() / 45405"
   ]
  },
  {
   "cell_type": "code",
   "execution_count": 5,
   "metadata": {
    "ExecuteTime": {
     "end_time": "2021-04-23T08:42:07.113004Z",
     "start_time": "2021-04-23T08:42:06.881754Z"
    }
   },
   "outputs": [
    {
     "data": {
      "image/png": "[encoded data removed]",
      "text/plain": [
       "<Figure size 1080x360 with 2 Axes>"
      ]
     },
     "metadata": {
      "needs_background": "light"
     },
     "output_type": "display_data"
    }
   ],
   "source": [
    "plt.rcParams['figure.figsize'] = 15, 5\n",
    "plt.subplot(121)\n",
    "plt.title('Dataset balance', fontsize=10)\n",
    "s = sb.countplot(x=\"label\", data=df, alpha=0.7)\n",
    "ax = plt.subplot(122)\n",
    "_classpie = df['label'].value_counts()\n",
    "_size = _classpie.values.tolist()\n",
    "_types = _classpie.axes[0].tolist()\n",
    "_labels = 'True', 'Fake'\n",
    "colors = ['#EAFFD0', '#F38181']\n",
    "plt.title('Dataset balance', fontsize=10)\n",
    "patches, texts, autotexts = plt.pie(_size,\n",
    "                                    colors=colors,\n",
    "                                    labels=_labels,\n",
    "                                    autopct='%1.1f%%',\n",
    "                                    shadow=True,\n",
    "                                    startangle=150)\n",
    "plt.show()"
   ]
  },
  {
   "cell_type": "markdown",
   "metadata": {},
   "source": [
    "## Vectorizing the text"
   ]
  },
  {
   "cell_type": "code",
   "execution_count": 6,
   "metadata": {
    "ExecuteTime": {
     "end_time": "2021-04-23T08:42:14.311598Z",
     "start_time": "2021-04-23T08:42:12.294501Z"
    }
   },
   "outputs": [],
   "source": [
    "X = vectorizer.fit_transform(df['text'].values)\n",
    "y = df['label']"
   ]
  },
  {
   "cell_type": "markdown",
   "metadata": {},
   "source": [
    "## Train-test splitting"
   ]
  },
  {
   "cell_type": "code",
   "execution_count": 7,
   "metadata": {
    "ExecuteTime": {
     "end_time": "2021-04-23T08:42:14.470858Z",
     "start_time": "2021-04-23T08:42:14.440686Z"
    }
   },
   "outputs": [],
   "source": [
    "X_train, X_test, y_train, y_test = train_test_split(X, y,\n",
    "                                                    test_size=0.33,\n",
    "                                                    random_state=0)"
   ]
  },
  {
   "cell_type": "markdown",
   "metadata": {},
   "source": [
    "## Model evaluations"
   ]
  },
  {
   "cell_type": "code",
   "execution_count": 8,
   "metadata": {
    "ExecuteTime": {
     "end_time": "2021-04-23T08:42:16.401691Z",
     "start_time": "2021-04-23T08:42:16.397257Z"
    }
   },
   "outputs": [],
   "source": [
    "results = {'Model': [], 'Train-Accuracy': [], 'Test-Accuracy': []}\n",
    "\n",
    "val_results = {\n",
    "    'Model': [],\n",
    "    'Precision (macro)': [],\n",
    "    'Precision (micro)': [],\n",
    "    'Recall (macro)': [],\n",
    "    'Recall (micro)': [],\n",
    "    'F1-Score (macro)': [],\n",
    "    'F1-Score (micro)': []\n",
    "}"
   ]
  },
  {
   "cell_type": "markdown",
   "metadata": {},
   "source": [
    "Custom functions to plot confusion matrix and accuracy report."
   ]
  },
  {
   "cell_type": "code",
   "execution_count": 9,
   "metadata": {
    "ExecuteTime": {
     "end_time": "2021-04-23T08:42:17.731742Z",
     "start_time": "2021-04-23T08:42:17.714532Z"
    }
   },
   "outputs": [],
   "source": [
    "def plot_confusion_matrix(cm,\n",
    "                          classes,\n",
    "                          normalize=False,\n",
    "                          title='Confusion matrix',\n",
    "                          cmap=plt.cm.Blues):\n",
    "    plt.imshow(cm, interpolation='nearest', cmap=cmap)\n",
    "    plt.title(title)\n",
    "    plt.colorbar()\n",
    "    tick_marks = np.arange(len(classes))\n",
    "    plt.xticks(tick_marks, classes, rotation=45)\n",
    "    plt.yticks(tick_marks, classes)\n",
    "\n",
    "    thresh = cm.max() / 2.\n",
    "    for i, j in itertools.product(range(cm.shape[0]), range(cm.shape[1])):\n",
    "        plt.text(j,\n",
    "                 i,\n",
    "                 cm[i, j],\n",
    "                 horizontalalignment=\"center\",\n",
    "                 color=\"white\" if cm[i, j] > thresh else \"black\")\n",
    "\n",
    "    plt.tight_layout()\n",
    "    plt.ylabel('True label')\n",
    "    plt.xlabel('Predicted label')"
   ]
  },
  {
   "cell_type": "code",
   "execution_count": 10,
   "metadata": {
    "ExecuteTime": {
     "end_time": "2021-04-23T08:42:18.169213Z",
     "start_time": "2021-04-23T08:42:18.153212Z"
    }
   },
   "outputs": [],
   "source": [
    "def get_metrics(model, y_train, train_pred, y_test, pred):\n",
    "    print(30 * '-' + model + 30 * '-')\n",
    "\n",
    "    taccuracy = round(metrics.accuracy_score(y_train, train_pred), 3)\n",
    "    print('Training Accuracy: ', taccuracy)\n",
    "\n",
    "    accuracy = round(metrics.accuracy_score(y_test, pred), 3)\n",
    "    print('Testing Accuracy:', accuracy)\n",
    "\n",
    "    results['Model'].append(model)\n",
    "    results['Train-Accuracy'].append(taccuracy)\n",
    "    results['Test-Accuracy'].append(accuracy)\n",
    "\n",
    "    val_results['Model'].append(model)\n",
    "    val_results['Precision (macro)'].append(\n",
    "        round(precision_score(y_test, pred, average='macro'), 3))\n",
    "    val_results['Precision (micro)'].append(\n",
    "        round(precision_score(y_test, pred, average='micro'), 3))\n",
    "    val_results['Recall (macro)'].append(\n",
    "        round(recall_score(y_test, pred, average='macro'), 3))\n",
    "    val_results['Recall (micro)'].append(\n",
    "        round(recall_score(y_test, pred, average='micro'), 3))\n",
    "    val_results['F1-Score (macro)'].append(\n",
    "        round(f1_score(y_test, pred, average='macro'), 3))\n",
    "    val_results['F1-Score (micro)'].append(\n",
    "        round(f1_score(y_test, pred, average='micro'), 3))\n",
    "\n",
    "    return metrics.classification_report(y_test, pred)"
   ]
  },
  {
   "cell_type": "markdown",
   "metadata": {},
   "source": [
    "## Model training and testing"
   ]
  },
  {
   "cell_type": "markdown",
   "metadata": {},
   "source": [
    "### SVM"
   ]
  },
  {
   "cell_type": "code",
   "execution_count": 11,
   "metadata": {
    "ExecuteTime": {
     "end_time": "2021-04-23T08:44:18.525150Z",
     "start_time": "2021-04-23T08:44:08.331107Z"
    }
   },
   "outputs": [
    {
     "data": {
      "text/plain": [
       "SVC(kernel='linear')"
      ]
     },
     "execution_count": 11,
     "metadata": {},
     "output_type": "execute_result"
    }
   ],
   "source": [
    "svm_clf = SVC(kernel='linear')\n",
    "svm_clf.fit(X_train, y_train)"
   ]
  },
  {
   "cell_type": "code",
   "execution_count": 12,
   "metadata": {
    "ExecuteTime": {
     "end_time": "2021-04-23T08:44:30.427954Z",
     "start_time": "2021-04-23T08:44:18.791920Z"
    }
   },
   "outputs": [
    {
     "name": "stdout",
     "output_type": "stream",
     "text": [
      "------------------------------SVM------------------------------\n",
      "Training Accuracy:  1.0\n",
      "Testing Accuracy: 0.948\n",
      "              precision    recall  f1-score   support\n",
      "\n",
      "           0       0.95      0.94      0.94      7020\n",
      "           1       0.95      0.96      0.95      7964\n",
      "\n",
      "    accuracy                           0.95     14984\n",
      "   macro avg       0.95      0.95      0.95     14984\n",
      "weighted avg       0.95      0.95      0.95     14984\n",
      "\n"
     ]
    },
    {
     "data": {
      "image/png": "[encoded data removed]",
      "text/plain": [
       "<Figure size 1080x360 with 2 Axes>"
      ]
     },
     "metadata": {
      "needs_background": "light"
     },
     "output_type": "display_data"
    }
   ],
   "source": [
    "#Training Accuracy\n",
    "Y_predict = svm_clf.predict(X_train)\n",
    "\n",
    "#Actual Modeling\n",
    "svm_pred = svm_clf.predict(X_test)\n",
    "\n",
    "# Printing training and testing scores\n",
    "print(get_metrics(\"SVM\", y_train, Y_predict, y_test, svm_pred))\n",
    "\n",
    "# Plotting confusion matrix\n",
    "cm = metrics.confusion_matrix(y_test, svm_pred)\n",
    "plot_confusion_matrix(cm, classes=['Fake Data', 'Real Data'], title=\"SVM\")"
   ]
  },
  {
   "cell_type": "code",
   "execution_count": 13,
   "metadata": {
    "ExecuteTime": {
     "end_time": "2021-04-23T08:44:30.712626Z",
     "start_time": "2021-04-23T08:44:30.699528Z"
    }
   },
   "outputs": [],
   "source": [
    "# Saving the trained model\n",
    "with open(\"models/normal_svm_clf.pkl\", 'wb') as file:\n",
    "    pickle.dump(svm_clf, file)"
   ]
  },
  {
   "cell_type": "markdown",
   "metadata": {},
   "source": [
    "### Passive Aggressive Classifier"
   ]
  },
  {
   "cell_type": "code",
   "execution_count": 14,
   "metadata": {
    "ExecuteTime": {
     "end_time": "2021-04-23T08:44:34.328310Z",
     "start_time": "2021-04-23T08:44:34.216984Z"
    }
   },
   "outputs": [
    {
     "data": {
      "text/plain": [
       "PassiveAggressiveClassifier()"
      ]
     },
     "execution_count": 14,
     "metadata": {},
     "output_type": "execute_result"
    }
   ],
   "source": [
    "linear_clf = PassiveAggressiveClassifier()\n",
    "linear_clf.fit(X_train, y_train)"
   ]
  },
  {
   "cell_type": "code",
   "execution_count": 15,
   "metadata": {
    "ExecuteTime": {
     "end_time": "2021-04-23T08:44:34.833460Z",
     "start_time": "2021-04-23T08:44:34.596309Z"
    }
   },
   "outputs": [
    {
     "name": "stdout",
     "output_type": "stream",
     "text": [
      "------------------------------Passive Aggressive Classifier------------------------------\n",
      "Training Accuracy:  1.0\n",
      "Testing Accuracy: 0.952\n",
      "              precision    recall  f1-score   support\n",
      "\n",
      "           0       0.96      0.94      0.95      7020\n",
      "           1       0.95      0.96      0.95      7964\n",
      "\n",
      "    accuracy                           0.95     14984\n",
      "   macro avg       0.95      0.95      0.95     14984\n",
      "weighted avg       0.95      0.95      0.95     14984\n",
      "\n"
     ]
    },
    {
     "data": {
      "image/png": "[encoded data removed]",
      "text/plain": [
       "<Figure size 1080x360 with 2 Axes>"
      ]
     },
     "metadata": {
      "needs_background": "light"
     },
     "output_type": "display_data"
    }
   ],
   "source": [
    "#Training accuracy\n",
    "Y_predict = linear_clf.predict(X_train)\n",
    "\n",
    "# Actual modeling\n",
    "pa_pred = linear_clf.predict(X_test)\n",
    "\n",
    "# Printing training and testing scores\n",
    "print(get_metrics(\"Passive Aggressive Classifier\", y_train, Y_predict, y_test, pa_pred))\n",
    "\n",
    "# Plotting confusion matrix\n",
    "cm = metrics.confusion_matrix(y_test, pa_pred)\n",
    "plot_confusion_matrix(cm, classes=['Fake Data', 'Real Data'], title=\"Passive Aggressive Classifier\")"
   ]
  },
  {
   "cell_type": "code",
   "execution_count": 16,
   "metadata": {
    "ExecuteTime": {
     "end_time": "2021-04-23T08:44:37.558205Z",
     "start_time": "2021-04-23T08:44:37.549207Z"
    }
   },
   "outputs": [],
   "source": [
    "# Saving the trained model\n",
    "with open(\"models/normal_linear_clf.pkl\", 'wb') as file:\n",
    "    pickle.dump(linear_clf, file)"
   ]
  },
  {
   "cell_type": "markdown",
   "metadata": {},
   "source": [
    "### Random Forest"
   ]
  },
  {
   "cell_type": "code",
   "execution_count": 17,
   "metadata": {
    "ExecuteTime": {
     "end_time": "2021-04-23T08:45:04.872838Z",
     "start_time": "2021-04-23T08:44:58.798249Z"
    }
   },
   "outputs": [
    {
     "data": {
      "text/plain": [
       "RandomForestClassifier(max_depth=250)"
      ]
     },
     "execution_count": 17,
     "metadata": {},
     "output_type": "execute_result"
    }
   ],
   "source": [
    "rf_clf = RandomForestClassifier(max_depth=250)\n",
    "rf_clf.fit(X_train, y_train)"
   ]
  },
  {
   "cell_type": "code",
   "execution_count": 18,
   "metadata": {
    "ExecuteTime": {
     "end_time": "2021-04-23T08:45:05.891196Z",
     "start_time": "2021-04-23T08:45:05.127610Z"
    }
   },
   "outputs": [
    {
     "name": "stdout",
     "output_type": "stream",
     "text": [
      "------------------------------Random Forest Classifier------------------------------\n",
      "Training Accuracy:  1.0\n",
      "Testing Accuracy: 0.938\n",
      "              precision    recall  f1-score   support\n",
      "\n",
      "           0       0.95      0.92      0.93      7020\n",
      "           1       0.93      0.96      0.94      7964\n",
      "\n",
      "    accuracy                           0.94     14984\n",
      "   macro avg       0.94      0.94      0.94     14984\n",
      "weighted avg       0.94      0.94      0.94     14984\n",
      "\n"
     ]
    },
    {
     "data": {
      "image/png": "[encoded data removed]",
      "text/plain": [
       "<Figure size 1080x360 with 2 Axes>"
      ]
     },
     "metadata": {
      "needs_background": "light"
     },
     "output_type": "display_data"
    }
   ],
   "source": [
    "#Training Accuracy\n",
    "Y_predict = rf_clf.predict(X_train)\n",
    "\n",
    "# Actual Modeling\n",
    "rf_pred = rf_clf.predict(X_test)\n",
    "\n",
    "# Printing training and testing scores\n",
    "print(get_metrics(\"Random Forest Classifier\", y_train, Y_predict,y_test, rf_pred))\n",
    "\n",
    "# Plotting confusion matrix\n",
    "cm = metrics.confusion_matrix(y_test, rf_pred)\n",
    "plot_confusion_matrix(cm, classes=['Fake Data', 'Real Data'], title=\"Random Forest Classifier\")"
   ]
  },
  {
   "cell_type": "code",
   "execution_count": 19,
   "metadata": {
    "ExecuteTime": {
     "end_time": "2021-04-23T08:45:06.171590Z",
     "start_time": "2021-04-23T08:45:06.146463Z"
    }
   },
   "outputs": [],
   "source": [
    "# Saving the trained model\n",
    "with open(\"models/normal_rf_clf.pkl\", 'wb') as file:\n",
    "    pickle.dump(rf_clf, file)"
   ]
  },
  {
   "cell_type": "markdown",
   "metadata": {},
   "source": [
    "### Decision Tree Classifier"
   ]
  },
  {
   "cell_type": "code",
   "execution_count": 20,
   "metadata": {
    "ExecuteTime": {
     "end_time": "2021-04-23T08:45:09.106252Z",
     "start_time": "2021-04-23T08:45:06.428594Z"
    }
   },
   "outputs": [
    {
     "data": {
      "text/plain": [
       "DecisionTreeClassifier()"
      ]
     },
     "execution_count": 20,
     "metadata": {},
     "output_type": "execute_result"
    }
   ],
   "source": [
    "dt_clf = DecisionTreeClassifier()\n",
    "dt_clf.fit(X_train, y_train)"
   ]
  },
  {
   "cell_type": "code",
   "execution_count": 21,
   "metadata": {
    "ExecuteTime": {
     "end_time": "2021-04-23T08:45:09.599219Z",
     "start_time": "2021-04-23T08:45:09.360404Z"
    }
   },
   "outputs": [
    {
     "name": "stdout",
     "output_type": "stream",
     "text": [
      "------------------------------Decision Tree Classifier------------------------------\n",
      "Training Accuracy:  1.0\n",
      "Testing Accuracy: 0.912\n",
      "              precision    recall  f1-score   support\n",
      "\n",
      "           0       0.92      0.89      0.90      7020\n",
      "           1       0.91      0.93      0.92      7964\n",
      "\n",
      "    accuracy                           0.91     14984\n",
      "   macro avg       0.91      0.91      0.91     14984\n",
      "weighted avg       0.91      0.91      0.91     14984\n",
      "\n"
     ]
    },
    {
     "data": {
      "image/png": "[encoded data removed]",
      "text/plain": [
       "<Figure size 1080x360 with 2 Axes>"
      ]
     },
     "metadata": {
      "needs_background": "light"
     },
     "output_type": "display_data"
    }
   ],
   "source": [
    "#Training Accuracy\n",
    "Y_predict = dt_clf.predict(X_train)\n",
    "\n",
    "# Actual Modeling\n",
    "dt_pred = dt_clf.predict(X_test)\n",
    "\n",
    "# Printing training and testing scores\n",
    "print(get_metrics(\"Decision Tree Classifier\", y_train, Y_predict,y_test, dt_pred))\n",
    "\n",
    "# Plotting confusion matrix\n",
    "cm = metrics.confusion_matrix(y_test, dt_pred)\n",
    "plot_confusion_matrix(cm, classes=['Fake Data', 'Real Data'], title=\"Decision Tree Classifier\")"
   ]
  },
  {
   "cell_type": "code",
   "execution_count": 22,
   "metadata": {
    "ExecuteTime": {
     "end_time": "2021-04-23T08:45:09.869530Z",
     "start_time": "2021-04-23T08:45:09.855370Z"
    }
   },
   "outputs": [],
   "source": [
    "# Saving the trained model\n",
    "with open(\"models/normal_dt_clf.pkl\", 'wb') as file:\n",
    "    pickle.dump(dt_clf, file)"
   ]
  },
  {
   "cell_type": "markdown",
   "metadata": {},
   "source": [
    "### XGBoost"
   ]
  },
  {
   "cell_type": "code",
   "execution_count": 23,
   "metadata": {
    "ExecuteTime": {
     "end_time": "2021-04-23T08:45:20.341740Z",
     "start_time": "2021-04-23T08:45:10.124531Z"
    }
   },
   "outputs": [
    {
     "name": "stdout",
     "output_type": "stream",
     "text": [
      "[20:01:37] WARNING: C:/Users/Administrator/workspace/xgboost-win64_release_1.3.0/src/learner.cc:1061: Starting in XGBoost 1.3.0, the default evaluation metric used with the objective 'binary:logistic' was changed from 'error' to 'logloss'. Explicitly set eval_metric if you'd like to restore the old behavior.\n"
     ]
    },
    {
     "data": {
      "text/plain": [
       "XGBClassifier(base_score=0.5, booster='gbtree', colsample_bylevel=1,\n",
       "              colsample_bynode=1, colsample_bytree=1, gamma=0, gpu_id=-1,\n",
       "              importance_type='gain', interaction_constraints='',\n",
       "              learning_rate=0.300000012, max_delta_step=0, max_depth=6,\n",
       "              min_child_weight=1, missing=nan, monotone_constraints='()',\n",
       "              n_estimators=100, n_jobs=8, num_parallel_tree=1, random_state=0,\n",
       "              reg_alpha=0, reg_lambda=1, scale_pos_weight=1, subsample=1,\n",
       "              tree_method='exact', validate_parameters=1, verbosity=None)"
      ]
     },
     "execution_count": 23,
     "metadata": {},
     "output_type": "execute_result"
    }
   ],
   "source": [
    "xgb_clf = XGBClassifier()\n",
    "xgb_clf.fit(X_train, y_train)"
   ]
  },
  {
   "cell_type": "code",
   "execution_count": 24,
   "metadata": {
    "ExecuteTime": {
     "end_time": "2021-04-23T08:45:21.555360Z",
     "start_time": "2021-04-23T08:45:20.630292Z"
    }
   },
   "outputs": [
    {
     "name": "stdout",
     "output_type": "stream",
     "text": [
      "------------------------------XG Boost Classifier------------------------------\n",
      "Training Accuracy:  0.994\n",
      "Testing Accuracy: 0.965\n",
      "              precision    recall  f1-score   support\n",
      "\n",
      "           0       0.97      0.96      0.96      7020\n",
      "           1       0.96      0.97      0.97      7964\n",
      "\n",
      "    accuracy                           0.97     14984\n",
      "   macro avg       0.97      0.96      0.96     14984\n",
      "weighted avg       0.97      0.97      0.97     14984\n",
      "\n"
     ]
    },
    {
     "data": {
      "image/png": "[encoded data removed]",
      "text/plain": [
       "<Figure size 1080x360 with 2 Axes>"
      ]
     },
     "metadata": {
      "needs_background": "light"
     },
     "output_type": "display_data"
    }
   ],
   "source": [
    "#Training Accuracy\n",
    "Y_predict = xgb_clf.predict(X_train)\n",
    "\n",
    "# Actual Modeling\n",
    "dt_pred = xgb_clf.predict(X_test)\n",
    "\n",
    "# Printing training and testing scores\n",
    "print(get_metrics(\"XG Boost Classifier\", y_train, Y_predict,y_test, dt_pred))\n",
    "\n",
    "# Plotting confusion matrix\n",
    "cm = metrics.confusion_matrix(y_test, dt_pred)\n",
    "plot_confusion_matrix(cm, classes=['Fake Data', 'Real Data'], title=\"XG Boost Classifier\")"
   ]
  },
  {
   "cell_type": "code",
   "execution_count": 25,
   "metadata": {
    "ExecuteTime": {
     "end_time": "2021-04-23T08:45:21.887160Z",
     "start_time": "2021-04-23T08:45:21.841953Z"
    }
   },
   "outputs": [],
   "source": [
    "# Saving the trained model\n",
    "with open(\"models/normal_xgb_clf.pkl\", 'wb') as file:\n",
    "    pickle.dump(xgb_clf, file)"
   ]
  },
  {
   "cell_type": "markdown",
   "metadata": {},
   "source": [
    "### Naïve Bayes"
   ]
  },
  {
   "cell_type": "code",
   "execution_count": 26,
   "metadata": {
    "ExecuteTime": {
     "end_time": "2021-04-23T08:45:22.173159Z",
     "start_time": "2021-04-23T08:45:22.158158Z"
    }
   },
   "outputs": [
    {
     "data": {
      "text/plain": [
       "MultinomialNB(alpha=1e-10)"
      ]
     },
     "execution_count": 26,
     "metadata": {},
     "output_type": "execute_result"
    }
   ],
   "source": [
    "naive_clf = MultinomialNB(alpha=1.0e-10)\n",
    "naive_clf.fit(X_train, y_train)"
   ]
  },
  {
   "cell_type": "code",
   "execution_count": 27,
   "metadata": {
    "ExecuteTime": {
     "end_time": "2021-04-23T08:45:50.014946Z",
     "start_time": "2021-04-23T08:45:49.803046Z"
    }
   },
   "outputs": [
    {
     "name": "stdout",
     "output_type": "stream",
     "text": [
      "------------------------------Naïve Bayes Classifier------------------------------\n",
      "Training Accuracy:  0.967\n",
      "Testing Accuracy: 0.915\n",
      "              precision    recall  f1-score   support\n",
      "\n",
      "           0       0.90      0.92      0.91      7020\n",
      "           1       0.93      0.91      0.92      7964\n",
      "\n",
      "    accuracy                           0.92     14984\n",
      "   macro avg       0.91      0.92      0.92     14984\n",
      "weighted avg       0.92      0.92      0.92     14984\n",
      "\n"
     ]
    },
    {
     "data": {
      "image/png": "[encoded data removed]",
      "text/plain": [
       "<Figure size 1080x360 with 2 Axes>"
      ]
     },
     "metadata": {
      "needs_background": "light"
     },
     "output_type": "display_data"
    }
   ],
   "source": [
    "#Training Accuracy\n",
    "Y_predict = naive_clf.predict(X_train)\n",
    "\n",
    "# Actual Modeling\n",
    "dt_pred = naive_clf.predict(X_test)\n",
    "\n",
    "# Printing training and testing scores\n",
    "print(get_metrics(\"Naïve Bayes Classifier\", y_train, Y_predict,y_test, dt_pred))\n",
    "\n",
    "# Plotting confusion matrix\n",
    "cm = metrics.confusion_matrix(y_test, dt_pred)\n",
    "plot_confusion_matrix(cm, classes=['Fake Data', 'Real Data'], title=\"Naïve Bayes Classifier\")"
   ]
  },
  {
   "cell_type": "code",
   "execution_count": 28,
   "metadata": {
    "ExecuteTime": {
     "end_time": "2021-04-23T08:45:50.316439Z",
     "start_time": "2021-04-23T08:45:50.305172Z"
    }
   },
   "outputs": [],
   "source": [
    "# Saving the trained model\n",
    "with open(\"models/normal_naive_clf.pkl\", 'wb') as file:\n",
    "    pickle.dump(naive_clf, file)"
   ]
  },
  {
   "cell_type": "markdown",
   "metadata": {},
   "source": [
    "## Training and Testing results"
   ]
  },
  {
   "cell_type": "code",
   "execution_count": 29,
   "metadata": {
    "ExecuteTime": {
     "end_time": "2021-04-23T08:45:51.325804Z",
     "start_time": "2021-04-23T08:45:51.305155Z"
    }
   },
   "outputs": [
    {
     "data": {
      "text/html": [
       "<div>\n",
       "<style scoped>\n",
       "    .dataframe tbody tr th:only-of-type {\n",
       "        vertical-align: middle;\n",
       "    }\n",
       "\n",
       "    .dataframe tbody tr th {\n",
       "        vertical-align: top;\n",
       "    }\n",
       "\n",
       "    .dataframe thead th {\n",
       "        text-align: right;\n",
       "    }\n",
       "</style>\n",
       "<table border=\"1\" class=\"dataframe\">\n",
       "  <thead>\n",
       "    <tr style=\"text-align: right;\">\n",
       "      <th></th>\n",
       "      <th>Model</th>\n",
       "      <th>Train-Accuracy</th>\n",
       "      <th>Test-Accuracy</th>\n",
       "    </tr>\n",
       "  </thead>\n",
       "  <tbody>\n",
       "    <tr>\n",
       "      <th>0</th>\n",
       "      <td>SVM</td>\n",
       "      <td>1.000</td>\n",
       "      <td>0.948</td>\n",
       "    </tr>\n",
       "    <tr>\n",
       "      <th>1</th>\n",
       "      <td>Passive Aggressive Classifier</td>\n",
       "      <td>1.000</td>\n",
       "      <td>0.952</td>\n",
       "    </tr>\n",
       "    <tr>\n",
       "      <th>2</th>\n",
       "      <td>Random Forest Classifier</td>\n",
       "      <td>1.000</td>\n",
       "      <td>0.938</td>\n",
       "    </tr>\n",
       "    <tr>\n",
       "      <th>3</th>\n",
       "      <td>Decision Tree Classifier</td>\n",
       "      <td>1.000</td>\n",
       "      <td>0.912</td>\n",
       "    </tr>\n",
       "    <tr>\n",
       "      <th>4</th>\n",
       "      <td>XG Boost Classifier</td>\n",
       "      <td>0.994</td>\n",
       "      <td>0.965</td>\n",
       "    </tr>\n",
       "    <tr>\n",
       "      <th>5</th>\n",
       "      <td>Naïve Bayes Classifier</td>\n",
       "      <td>0.967</td>\n",
       "      <td>0.915</td>\n",
       "    </tr>\n",
       "  </tbody>\n",
       "</table>\n",
       "</div>"
      ],
      "text/plain": [
       "                           Model  Train-Accuracy  Test-Accuracy\n",
       "0                            SVM           1.000          0.948\n",
       "1  Passive Aggressive Classifier           1.000          0.952\n",
       "2       Random Forest Classifier           1.000          0.938\n",
       "3       Decision Tree Classifier           1.000          0.912\n",
       "4            XG Boost Classifier           0.994          0.965\n",
       "5         Naïve Bayes Classifier           0.967          0.915"
      ]
     },
     "execution_count": 29,
     "metadata": {},
     "output_type": "execute_result"
    }
   ],
   "source": [
    "results = pd.DataFrame(results)\n",
    "results"
   ]
  },
  {
   "cell_type": "code",
   "execution_count": 30,
   "metadata": {
    "ExecuteTime": {
     "end_time": "2021-04-23T08:45:51.737592Z",
     "start_time": "2021-04-23T08:45:51.714125Z"
    }
   },
   "outputs": [
    {
     "data": {
      "text/html": [
       "<div>\n",
       "<style scoped>\n",
       "    .dataframe tbody tr th:only-of-type {\n",
       "        vertical-align: middle;\n",
       "    }\n",
       "\n",
       "    .dataframe tbody tr th {\n",
       "        vertical-align: top;\n",
       "    }\n",
       "\n",
       "    .dataframe thead th {\n",
       "        text-align: right;\n",
       "    }\n",
       "</style>\n",
       "<table border=\"1\" class=\"dataframe\">\n",
       "  <thead>\n",
       "    <tr style=\"text-align: right;\">\n",
       "      <th></th>\n",
       "      <th>Model</th>\n",
       "      <th>Precision (macro)</th>\n",
       "      <th>Precision (micro)</th>\n",
       "      <th>Recall (macro)</th>\n",
       "      <th>Recall (micro)</th>\n",
       "      <th>F1-Score (macro)</th>\n",
       "      <th>F1-Score (micro)</th>\n",
       "    </tr>\n",
       "  </thead>\n",
       "  <tbody>\n",
       "    <tr>\n",
       "      <th>0</th>\n",
       "      <td>SVM</td>\n",
       "      <td>0.948</td>\n",
       "      <td>0.948</td>\n",
       "      <td>0.947</td>\n",
       "      <td>0.948</td>\n",
       "      <td>0.947</td>\n",
       "      <td>0.948</td>\n",
       "    </tr>\n",
       "    <tr>\n",
       "      <th>1</th>\n",
       "      <td>Passive Aggressive Classifier</td>\n",
       "      <td>0.952</td>\n",
       "      <td>0.952</td>\n",
       "      <td>0.951</td>\n",
       "      <td>0.952</td>\n",
       "      <td>0.951</td>\n",
       "      <td>0.952</td>\n",
       "    </tr>\n",
       "    <tr>\n",
       "      <th>2</th>\n",
       "      <td>Random Forest Classifier</td>\n",
       "      <td>0.939</td>\n",
       "      <td>0.938</td>\n",
       "      <td>0.937</td>\n",
       "      <td>0.938</td>\n",
       "      <td>0.938</td>\n",
       "      <td>0.938</td>\n",
       "    </tr>\n",
       "    <tr>\n",
       "      <th>3</th>\n",
       "      <td>Decision Tree Classifier</td>\n",
       "      <td>0.912</td>\n",
       "      <td>0.912</td>\n",
       "      <td>0.910</td>\n",
       "      <td>0.912</td>\n",
       "      <td>0.911</td>\n",
       "      <td>0.912</td>\n",
       "    </tr>\n",
       "    <tr>\n",
       "      <th>4</th>\n",
       "      <td>XG Boost Classifier</td>\n",
       "      <td>0.965</td>\n",
       "      <td>0.965</td>\n",
       "      <td>0.965</td>\n",
       "      <td>0.965</td>\n",
       "      <td>0.965</td>\n",
       "      <td>0.965</td>\n",
       "    </tr>\n",
       "    <tr>\n",
       "      <th>5</th>\n",
       "      <td>Naïve Bayes Classifier</td>\n",
       "      <td>0.915</td>\n",
       "      <td>0.915</td>\n",
       "      <td>0.916</td>\n",
       "      <td>0.915</td>\n",
       "      <td>0.915</td>\n",
       "      <td>0.915</td>\n",
       "    </tr>\n",
       "  </tbody>\n",
       "</table>\n",
       "</div>"
      ],
      "text/plain": [
       "                           Model  Precision (macro)  Precision (micro)  \\\n",
       "0                            SVM              0.948              0.948   \n",
       "1  Passive Aggressive Classifier              0.952              0.952   \n",
       "2       Random Forest Classifier              0.939              0.938   \n",
       "3       Decision Tree Classifier              0.912              0.912   \n",
       "4            XG Boost Classifier              0.965              0.965   \n",
       "5         Naïve Bayes Classifier              0.915              0.915   \n",
       "\n",
       "   Recall (macro)  Recall (micro)  F1-Score (macro)  F1-Score (micro)  \n",
       "0           0.947           0.948             0.947             0.948  \n",
       "1           0.951           0.952             0.951             0.952  \n",
       "2           0.937           0.938             0.938             0.938  \n",
       "3           0.910           0.912             0.911             0.912  \n",
       "4           0.965           0.965             0.965             0.965  \n",
       "5           0.916           0.915             0.915             0.915  "
      ]
     },
     "execution_count": 30,
     "metadata": {},
     "output_type": "execute_result"
    }
   ],
   "source": [
    "val_results = pd.DataFrame(val_results)\n",
    "val_results"
   ]
  },
  {
   "cell_type": "code",
   "execution_count": null,
   "metadata": {},
   "outputs": [],
   "source": []
  }
 ],
 "metadata": {
  "kernelspec": {
   "display_name": "Python 3",
   "language": "python",
   "name": "python3"
  },
  "language_info": {
   "codemirror_mode": {
    "name": "ipython",
    "version": 3
   },
   "file_extension": ".py",
   "mimetype": "text/x-python",
   "name": "python",
   "nbconvert_exporter": "python",
   "pygments_lexer": "ipython3",
   "version": "3.7.6"
  },
  "toc": {
   "base_numbering": 1,
   "nav_menu": {},
   "number_sections": false,
   "sideBar": true,
   "skip_h1_title": false,
   "title_cell": "Table of Contents",
   "title_sidebar": "Contents",
   "toc_cell": false,
   "toc_position": {},
   "toc_section_display": true,
   "toc_window_display": true
  },
  "varInspector": {
   "cols": {
    "lenName": 16,
    "lenType": 16,
    "lenVar": 40
   },
   "kernels_config": {
    "python": {
     "delete_cmd_postfix": "",
     "delete_cmd_prefix": "del ",
     "library": "var_list.py",
     "varRefreshCmd": "print(var_dic_list())"
    },
    "r": {
     "delete_cmd_postfix": ") ",
     "delete_cmd_prefix": "rm(",
     "library": "var_list.r",
     "varRefreshCmd": "cat(var_dic_list()) "
    }
   },
   "types_to_exclude": [
    "module",
    "function",
    "builtin_function_or_method",
    "instance",
    "_Feature"
   ],
   "window_display": false
  }
 },
 "nbformat": 4,
 "nbformat_minor": 4
}
